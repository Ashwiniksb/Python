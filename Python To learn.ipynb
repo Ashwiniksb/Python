{
 "cells": [
  {
   "cell_type": "code",
   "execution_count": null,
   "id": "7fbf5137",
   "metadata": {},
   "outputs": [],
   "source": [
    "#To find factorial of a number\n",
    "def factorial(x):\n",
    "    if x < 0:\n",
    "        return \"Not allowed\"\n",
    "    elif x == 0 | x == 1:\n",
    "        return 1\n",
    "    else:\n",
    "        return x * factorial(x-1)\n",
    "print(factorial())"
   ]
  },
  {
   "cell_type": "code",
   "execution_count": null,
   "id": "cbd30dbc",
   "metadata": {},
   "outputs": [],
   "source": []
  },
  {
   "cell_type": "code",
   "execution_count": null,
   "id": "da23c0b5",
   "metadata": {},
   "outputs": [],
   "source": []
  }
 ],
 "metadata": {
  "kernelspec": {
   "display_name": "Python 3 (ipykernel)",
   "language": "python",
   "name": "python3"
  },
  "language_info": {
   "codemirror_mode": {
    "name": "ipython",
    "version": 3
   },
   "file_extension": ".py",
   "mimetype": "text/x-python",
   "name": "python",
   "nbconvert_exporter": "python",
   "pygments_lexer": "ipython3",
   "version": "3.9.7"
  }
 },
 "nbformat": 4,
 "nbformat_minor": 5
}
