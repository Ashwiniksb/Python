{
 "cells": [
  {
   "cell_type": "code",
   "execution_count": 4,
   "id": "7fbf5137",
   "metadata": {},
   "outputs": [
    {
     "name": "stdout",
     "output_type": "stream",
     "text": [
      "Number: 5\n",
      "120\n"
     ]
    }
   ],
   "source": [
    "#To find factorial of a number\n",
    "#Recursive functions!!!\n",
    "#Conditionals\n",
    "x= input(\"Number: \") \n",
    "\n",
    "#input function only provides string output. Thus we need to change it into int type.. \n",
    "#also we may write it as x= int(input()).\n",
    "\n",
    "x= int(x)\n",
    "def factorial(x):\n",
    "    #\n",
    "    if x < 0:\n",
    "        return \"Not allowed\"\n",
    "    elif x == 0 | x == 1:\n",
    "        return 1\n",
    "    else:\n",
    "        return x * factorial(x-1)\n",
    "print(factorial(x))"
   ]
  },
  {
   "cell_type": "code",
   "execution_count": 6,
   "id": "cbd30dbc",
   "metadata": {},
   "outputs": [
    {
     "name": "stdout",
     "output_type": "stream",
     "text": [
      "0\n",
      "2\n",
      "4\n"
     ]
    }
   ],
   "source": [
    "#loops\n",
    "#start, step and stop!!!\n",
    "for i in range (0, 5, 2): #start, stop, step\n",
    "    print(i)\n"
   ]
  },
  {
   "cell_type": "code",
   "execution_count": 34,
   "id": "da23c0b5",
   "metadata": {},
   "outputs": [],
   "source": [
    "#while loop\n",
    "#while loop needs increment to be defined within the function as follows\n",
    "def CD(n):\n",
    "    while int (n) > 0 :       #MUST TERMINATION CONDITION and int must!!! Check for error messages in spyder.\n",
    "        print(n)\n",
    "        n = n-1\n",
    "    print(\"Booom\")  "
   ]
  },
  {
   "cell_type": "code",
   "execution_count": 35,
   "id": "1d656c03",
   "metadata": {},
   "outputs": [
    {
     "name": "stdout",
     "output_type": "stream",
     "text": [
      "5\n",
      "4\n",
      "3\n",
      "2\n",
      "1\n",
      "Booom\n"
     ]
    }
   ],
   "source": [
    "CD(5)"
   ]
  },
  {
   "cell_type": "code",
   "execution_count": 38,
   "id": "df688379",
   "metadata": {},
   "outputs": [
    {
     "data": {
      "text/plain": [
       "3"
      ]
     },
     "execution_count": 38,
     "metadata": {},
     "output_type": "execute_result"
    }
   ],
   "source": [
    "#Mod function is, the remainder is output\n",
    "7%4 #when 7/4 is done, 1 is the coefficient and 3 is the remainder thus 7 mod 4 = 3\n"
   ]
  },
  {
   "cell_type": "code",
   "execution_count": 43,
   "id": "738df863",
   "metadata": {},
   "outputs": [
    {
     "data": {
      "text/plain": [
       "0"
      ]
     },
     "execution_count": 43,
     "metadata": {},
     "output_type": "execute_result"
    }
   ],
   "source": [
    "4%2 #when 4/2 is done, 2 is the coefficient and 0 is the remainder thus 4 mod 2 = 0\n"
   ]
  },
  {
   "cell_type": "code",
   "execution_count": 42,
   "id": "7b4da38d",
   "metadata": {},
   "outputs": [
    {
     "data": {
      "text/plain": [
       "2"
      ]
     },
     "execution_count": 42,
     "metadata": {},
     "output_type": "execute_result"
    }
   ],
   "source": [
    "8%6"
   ]
  },
  {
   "cell_type": "code",
   "execution_count": 44,
   "id": "a7b7903c",
   "metadata": {},
   "outputs": [
    {
     "data": {
      "text/plain": [
       "1"
      ]
     },
     "execution_count": 44,
     "metadata": {},
     "output_type": "execute_result"
    }
   ],
   "source": [
    "1 % 4 \n",
    "#1/4 when 1 is divided by 4, 1 remains and with decimal we need to add 0 right of 1, thus since remainder is 1, the answer is 1. \n",
    "#understand it better by long division representation. for more watch session 5, 25.00\n"
   ]
  },
  {
   "cell_type": "code",
   "execution_count": null,
   "id": "dff68725",
   "metadata": {},
   "outputs": [],
   "source": [
    "#to print 1 to 10 using while loop\n",
    "n = 1\n",
    "while True:\n",
    "    print(n)\n",
    "    if n==10:\n",
    "        break\n",
    "    n = n+1"
   ]
  },
  {
   "cell_type": "code",
   "execution_count": null,
   "id": "c83d402f",
   "metadata": {},
   "outputs": [],
   "source": [
    "#Strings are immutable, we can make a new string and make changes within that string. However, we may create a completely new stringg and make a new object itself.\n"
   ]
  },
  {
   "cell_type": "code",
   "execution_count": 56,
   "id": "8fa6aa8e",
   "metadata": {},
   "outputs": [
    {
     "name": "stdout",
     "output_type": "stream",
     "text": [
      "True\n"
     ]
    }
   ],
   "source": [
    "#to search for strings\n",
    "name = 'Ashwini'\n",
    "if 'h' in name:\n",
    "    print('True')\n",
    "else:\n",
    "    print('False')"
   ]
  },
  {
   "cell_type": "code",
   "execution_count": 57,
   "id": "f4e112ab",
   "metadata": {},
   "outputs": [
    {
     "data": {
      "text/plain": [
       "'Ashwini'"
      ]
     },
     "execution_count": 57,
     "metadata": {},
     "output_type": "execute_result"
    }
   ],
   "source": [
    "name.upper() #to get all capital ASHWINI\n",
    "name.capitalize() #to get first letter capitalized."
   ]
  },
  {
   "cell_type": "code",
   "execution_count": null,
   "id": "bede52d8",
   "metadata": {},
   "outputs": [],
   "source": [
    "#excersise, to check answers see from 33.57 of Session4"
   ]
  },
  {
   "cell_type": "code",
   "execution_count": 25,
   "id": "d225700a",
   "metadata": {},
   "outputs": [
    {
     "data": {
      "text/plain": [
       "['I', 'am', 'Ashwini', 'K', 'S']"
      ]
     },
     "execution_count": 25,
     "metadata": {},
     "output_type": "execute_result"
    }
   ],
   "source": [
    "# List-[]: to convert something to list, use list() function\n",
    "      #to split a string/line of words and put it in list, string.split(), if the split must be done according to a comma then string.split(',')\n",
    "#tuples- ()\n",
    "#dictionary- {}\n",
    "s = 'I am Ashwini K S'\n",
    "t= s.split()\n",
    "t"
   ]
  },
  {
   "cell_type": "code",
   "execution_count": 31,
   "id": "fc8d6f3a",
   "metadata": {},
   "outputs": [
    {
     "name": "stdout",
     "output_type": "stream",
     "text": [
      "['Hi,', 'I', 'am', 'Annie']\n",
      "Hi, I am Annie\n"
     ]
    }
   ],
   "source": [
    "ss= 'Hi, I am Annie'\n",
    "tt= ss.split(' ')\n",
    "print(tt)\n",
    "space = ' '\n",
    "sz= space.join(tt)\n",
    "print(sz)"
   ]
  },
  {
   "cell_type": "code",
   "execution_count": 22,
   "id": "82c7be76",
   "metadata": {},
   "outputs": [
    {
     "name": "stdout",
     "output_type": "stream",
     "text": [
      "['banana', 'apple', 'orange', 'kiwi']\n",
      "banana\n",
      "apple\n",
      "orange\n",
      "kiwi\n",
      "[8, 12, 20, 28]\n"
     ]
    }
   ],
   "source": [
    "fruits = ['banana', 'apple', 'orange', 'kiwi'] \n",
    "print(fruits)\n",
    "#to traverse through the list or to print all the elements in the list\n",
    "for i in fruits:\n",
    "    print(i)\n",
    "#to deal with each element within the lists\n",
    "for i in range(len(numbers)):\n",
    "    numbers[i] = numbers[i] * 2\n",
    "print(numbers)\n",
    "#to add two lists and store it in first one, we may use l1= list.extend(l2)"
   ]
  },
  {
   "cell_type": "code",
   "execution_count": 23,
   "id": "41a0266e",
   "metadata": {},
   "outputs": [
    {
     "data": {
      "text/plain": [
       "[8, 12, 20, 28]"
      ]
     },
     "execution_count": 23,
     "metadata": {},
     "output_type": "execute_result"
    }
   ],
   "source": [
    "#can also write it as but it does shoe some errors sometimes\n",
    "for i in numbers:\n",
    "    i = i * 2\n",
    "numbers"
   ]
  },
  {
   "cell_type": "markdown",
   "id": "adc61e52",
   "metadata": {},
   "source": [
    "### Dictionaries!! {}\n"
   ]
  },
  {
   "cell_type": "code",
   "execution_count": 6,
   "id": "2e3f5274",
   "metadata": {},
   "outputs": [
    {
     "name": "stdout",
     "output_type": "stream",
     "text": [
      "Ashwija\n"
     ]
    },
    {
     "data": {
      "text/plain": [
       "True"
      ]
     },
     "execution_count": 6,
     "metadata": {},
     "output_type": "execute_result"
    }
   ],
   "source": [
    "#Unordered, unique, Mutable. \n",
    "#Stored in hashtables- Directly accessible.\n",
    "my_dict = {\"Ash\" : \"Ashwija\",\n",
    "          \"Annie\" : \"Ashwini\",\n",
    "          \"Malz\" : \"Amma\",\n",
    "          \"Paa\" : \"Appa\"}\n",
    "#importance is that it doesn't need an index to call the values here. I just have to call its key. \n",
    "print(my_dict[\"Ash\"])\n",
    "#to check the items in dictionary\n",
    "\"Annie\" in my_dict"
   ]
  },
  {
   "cell_type": "code",
   "execution_count": 8,
   "id": "88676dab",
   "metadata": {},
   "outputs": [
    {
     "data": {
      "text/plain": [
       "{'Ash': 'Ashwija',\n",
       " 'Annie': 'Ashwini',\n",
       " 'Malz': 'Amma',\n",
       " 'Sathya': 'Appa',\n",
       " 'Miu': 'Miu the cat'}"
      ]
     },
     "execution_count": 8,
     "metadata": {},
     "output_type": "execute_result"
    }
   ],
   "source": [
    "#to add new key and value\n",
    "my_dict[\"Miu\"] = \"Miu the cat\"\n",
    "#to delete just use del my_dict[\"key\"]"
   ]
  },
  {
   "cell_type": "code",
   "execution_count": 9,
   "id": "044cdf31",
   "metadata": {},
   "outputs": [
    {
     "name": "stdout",
     "output_type": "stream",
     "text": [
      "{'Name': ['Ash', 'Annie', 'Malz', 'Paa'], 'Age': [14, 24, 44, 56]}\n"
     ]
    }
   ],
   "source": [
    "#If a column needed, we assign a key (heading) and the values in the column to the key.\n",
    "Data = {\"Name\" : [\"Ash\", \"Annie\", \"Malz\", \"Paa\"],\n",
    "       \"Age\" : [14, 24, 44, 56]}\n",
    "print(Data)"
   ]
  },
  {
   "cell_type": "code",
   "execution_count": 14,
   "id": "a8d345bb",
   "metadata": {},
   "outputs": [],
   "source": [
    "#to find key using values: 1) One key might have many values... we may define a function\n",
    "def reverselookup(dictionary, value):\n",
    "    for key in dictionary:\n",
    "        if dictionary[key] == value:\n",
    "            return key"
   ]
  },
  {
   "cell_type": "code",
   "execution_count": 15,
   "id": "4eaada75",
   "metadata": {},
   "outputs": [
    {
     "data": {
      "text/plain": [
       "2"
      ]
     },
     "execution_count": 15,
     "metadata": {},
     "output_type": "execute_result"
    }
   ],
   "source": [
    "r = {1 : \"ek\",\n",
    "    2 : \"do\",\n",
    "    3 : \"theen\"}\n",
    "reverselookup(r, \"do\")\n"
   ]
  },
  {
   "cell_type": "markdown",
   "id": "5d77fe43",
   "metadata": {},
   "source": [
    "### Tuples:\n"
   ]
  },
  {
   "cell_type": "code",
   "execution_count": 16,
   "id": "1449bac5",
   "metadata": {},
   "outputs": [
    {
     "data": {
      "text/plain": [
       "'python'"
      ]
     },
     "execution_count": 16,
     "metadata": {},
     "output_type": "execute_result"
    }
   ],
   "source": [
    "#immutable\n",
    "t = ('a', 'b', 'c', 'd')\n",
    "#now to add an element to tuple, we have to create a new tuple and then add it, exactly like the string method.\n",
    "#we may len, min, max but not append!!! However, we may import copy and append that. We may switch it too.\n",
    "#we may also split and combine in tuples: i.e\n",
    "email = 'python@gmail.com'\n",
    "username, domain = email.split('@')\n",
    "username"
   ]
  },
  {
   "cell_type": "code",
   "execution_count": 17,
   "id": "570edd33",
   "metadata": {},
   "outputs": [
    {
     "data": {
      "text/plain": [
       "'gmail.com'"
      ]
     },
     "execution_count": 17,
     "metadata": {},
     "output_type": "execute_result"
    }
   ],
   "source": [
    "domain"
   ]
  },
  {
   "cell_type": "code",
   "execution_count": null,
   "id": "390e12cf",
   "metadata": {},
   "outputs": [],
   "source": []
  }
 ],
 "metadata": {
  "kernelspec": {
   "display_name": "Python 3 (ipykernel)",
   "language": "python",
   "name": "python3"
  },
  "language_info": {
   "codemirror_mode": {
    "name": "ipython",
    "version": 3
   },
   "file_extension": ".py",
   "mimetype": "text/x-python",
   "name": "python",
   "nbconvert_exporter": "python",
   "pygments_lexer": "ipython3",
   "version": "3.9.7"
  }
 },
 "nbformat": 4,
 "nbformat_minor": 5
}
